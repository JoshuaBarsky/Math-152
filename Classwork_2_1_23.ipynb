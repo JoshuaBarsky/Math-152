{
  "nbformat": 4,
  "nbformat_minor": 0,
  "metadata": {
    "colab": {
      "provenance": [],
      "authorship_tag": "ABX9TyOciG1Ynk6Zn0bidTzvUAsB",
      "include_colab_link": true
    },
    "kernelspec": {
      "name": "python3",
      "display_name": "Python 3"
    },
    "language_info": {
      "name": "python"
    }
  },
  "cells": [
    {
      "cell_type": "markdown",
      "metadata": {
        "id": "view-in-github",
        "colab_type": "text"
      },
      "source": [
        "<a href=\"https://colab.research.google.com/github/JoshuaBarsky/Math-152/blob/main/Classwork_2_1_23.ipynb\" target=\"_parent\"><img src=\"https://colab.research.google.com/assets/colab-badge.svg\" alt=\"Open In Colab\"/></a>"
      ]
    },
    {
      "cell_type": "code",
      "source": [
        "def Fib(n):\n",
        "  if n < 1000000000000:\n",
        "    current = prev = i = 1\n",
        "    while current+prev < n:\n",
        "      if i == 1:  #if statements: for the first two numbers of fibonacci\n",
        "        print(1)\n",
        "      i += 1\n",
        "      if i == 2:\n",
        "        print(1)\n",
        "      temp = current+prev\n",
        "      print(temp)\n",
        "      prev = current\n",
        "      current = temp\n",
        "  else:\n",
        "    print(\"n is too large!\")"
      ],
      "metadata": {
        "id": "ke4rdm6D2Mtu"
      },
      "execution_count": 87,
      "outputs": []
    },
    {
      "cell_type": "code",
      "source": [
        "def Fib_professors_version(n):\n",
        "  a=0\n",
        "  b=1\n",
        "  while b<n:\n",
        "    print(b)\n",
        "    a, b = b, a+b"
      ],
      "metadata": {
        "id": "i4bJN_JF-sj3"
      },
      "execution_count": 93,
      "outputs": []
    },
    {
      "cell_type": "code",
      "execution_count": 65,
      "metadata": {
        "id": "5DxM9inQt2HR"
      },
      "outputs": [],
      "source": [
        "def Fib_n_times(n):\n",
        "  a = b = 1\n",
        "  if n < 1000: #safety\n",
        "    for i in range(n):  #change to while loop upto 'n'\n",
        "      print(\"i is {}\".format(i), end = \". ---> \")\n",
        "      if b > a:\n",
        "        a = a+b\n",
        "        print(\"a is: {}\".format(a))\n",
        "      elif a > b:\n",
        "        b = a+b\n",
        "        print(\"b is: {}\".format(b))\n",
        "      else:   #these are for the first two numbers -- i.e. n = 1, n = 2\n",
        "        if i == 0:\n",
        "          print(\"a is: {}\".format(a))\n",
        "        elif i == 1:\n",
        "          print(\"b is: {}\".format(b))\n",
        "          a = a+b\n",
        "  else:\n",
        "    print(\"n is too large!\")\n",
        "    "
      ]
    },
    {
      "cell_type": "code",
      "source": [
        "Fib(999999999999)"
      ],
      "metadata": {
        "colab": {
          "base_uri": "https://localhost:8080/"
        },
        "id": "zBMFxrCvvsif",
        "outputId": "0c8cbc22-1b47-4798-babc-fd663e8a51c6"
      },
      "execution_count": 92,
      "outputs": [
        {
          "output_type": "stream",
          "name": "stdout",
          "text": [
            "1\n",
            "1\n",
            "2\n",
            "3\n",
            "5\n",
            "8\n",
            "13\n",
            "21\n",
            "34\n",
            "55\n",
            "89\n",
            "144\n",
            "233\n",
            "377\n",
            "610\n",
            "987\n",
            "1597\n",
            "2584\n",
            "4181\n",
            "6765\n",
            "10946\n",
            "17711\n",
            "28657\n",
            "46368\n",
            "75025\n",
            "121393\n",
            "196418\n",
            "317811\n",
            "514229\n",
            "832040\n",
            "1346269\n",
            "2178309\n",
            "3524578\n",
            "5702887\n",
            "9227465\n",
            "14930352\n",
            "24157817\n",
            "39088169\n",
            "63245986\n",
            "102334155\n",
            "165580141\n",
            "267914296\n",
            "433494437\n",
            "701408733\n",
            "1134903170\n",
            "1836311903\n",
            "2971215073\n",
            "4807526976\n",
            "7778742049\n",
            "12586269025\n",
            "20365011074\n",
            "32951280099\n",
            "53316291173\n",
            "86267571272\n",
            "139583862445\n",
            "225851433717\n",
            "365435296162\n",
            "591286729879\n",
            "956722026041\n"
          ]
        }
      ]
    },
    {
      "cell_type": "code",
      "source": [
        "Fib_professors_version(100)"
      ],
      "metadata": {
        "id": "KVqwWNbq-8CK",
        "outputId": "6ce1fd1c-e3e9-4a8d-ec8b-ff9daa7144a3",
        "colab": {
          "base_uri": "https://localhost:8080/"
        }
      },
      "execution_count": 95,
      "outputs": [
        {
          "output_type": "stream",
          "name": "stdout",
          "text": [
            "1\n",
            "1\n",
            "2\n",
            "3\n",
            "5\n",
            "8\n",
            "13\n",
            "21\n",
            "34\n",
            "55\n",
            "89\n"
          ]
        }
      ]
    }
  ]
}