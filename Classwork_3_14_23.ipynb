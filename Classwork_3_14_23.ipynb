{
  "nbformat": 4,
  "nbformat_minor": 0,
  "metadata": {
    "colab": {
      "provenance": [],
      "authorship_tag": "ABX9TyOQ5bbGRta6KwK2KX9KQ63s",
      "include_colab_link": true
    },
    "kernelspec": {
      "name": "python3",
      "display_name": "Python 3"
    },
    "language_info": {
      "name": "python"
    }
  },
  "cells": [
    {
      "cell_type": "markdown",
      "metadata": {
        "id": "view-in-github",
        "colab_type": "text"
      },
      "source": [
        "<a href=\"https://colab.research.google.com/github/JoshuaBarsky/Math-152/blob/main/Classwork_3_14_23.ipynb\" target=\"_parent\"><img src=\"https://colab.research.google.com/assets/colab-badge.svg\" alt=\"Open In Colab\"/></a>"
      ]
    },
    {
      "cell_type": "markdown",
      "source": [
        "Ramanujan-Sato formula (1887-1920)\n",
        "\n",
        "\n",
        "$\\pi = \\frac{99^2}{2\\sqrt{2}\\cdot\\sum_{k=0}^{\\infty}\\frac{4k!}{k!k!k!k!}\\cdot\\frac{26390k+1103}{396^{4k}}}$"
      ],
      "metadata": {
        "id": "gUJo2GZna6kX"
      }
    },
    {
      "cell_type": "code",
      "execution_count": null,
      "metadata": {
        "id": "xVAa0SlNa1ar"
      },
      "outputs": [],
      "source": []
    }
  ]
}