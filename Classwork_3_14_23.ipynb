{
  "nbformat": 4,
  "nbformat_minor": 0,
  "metadata": {
    "colab": {
      "provenance": [],
      "authorship_tag": "ABX9TyMH2iLNbdHA1ZQN0bDSjL87",
      "include_colab_link": true
    },
    "kernelspec": {
      "name": "python3",
      "display_name": "Python 3"
    },
    "language_info": {
      "name": "python"
    }
  },
  "cells": [
    {
      "cell_type": "markdown",
      "metadata": {
        "id": "view-in-github",
        "colab_type": "text"
      },
      "source": [
        "<a href=\"https://colab.research.google.com/github/JoshuaBarsky/Math-152/blob/main/Classwork_3_14_23.ipynb\" target=\"_parent\"><img src=\"https://colab.research.google.com/assets/colab-badge.svg\" alt=\"Open In Colab\"/></a>"
      ]
    },
    {
      "cell_type": "markdown",
      "source": [
        "Ramanujan-Sato formula (1887-1920)\n",
        "\n",
        "\n",
        "$\\pi = \\frac{99^2}{2\\sqrt{2}\\cdot\\sum_{k=0}^{\\infty}\\frac{4k!}{k!k!k!k!}\\cdot\\frac{26390k+1103}{396^{4k}}}$\n",
        "\n",
        "*(Created 2003)*"
      ],
      "metadata": {
        "id": "gUJo2GZna6kX"
      }
    },
    {
      "cell_type": "markdown",
      "source": [
        "Matplotlib\n",
        "\n",
        "1. What are you visualizing?\n",
        "2. What questions can be answered by looking at your plot?\n",
        "3. What labels/marks are needed for your plot to tell the story?\n",
        "4. What alternatives did you consider for visualizing the same information?"
      ],
      "metadata": {
        "id": "tuqJXPm8cIRM"
      }
    },
    {
      "cell_type": "code",
      "execution_count": null,
      "metadata": {
        "id": "xVAa0SlNa1ar"
      },
      "outputs": [],
      "source": []
    }
  ]
}