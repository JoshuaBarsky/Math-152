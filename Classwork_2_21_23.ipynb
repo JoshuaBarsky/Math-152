{
  "nbformat": 4,
  "nbformat_minor": 0,
  "metadata": {
    "colab": {
      "provenance": [],
      "authorship_tag": "ABX9TyPfwRi1gdoCqlEfTfnyRlBk",
      "include_colab_link": true
    },
    "kernelspec": {
      "name": "python3",
      "display_name": "Python 3"
    },
    "language_info": {
      "name": "python"
    }
  },
  "cells": [
    {
      "cell_type": "markdown",
      "metadata": {
        "id": "view-in-github",
        "colab_type": "text"
      },
      "source": [
        "<a href=\"https://colab.research.google.com/github/JoshuaBarsky/Math-152/blob/main/Classwork_2_21_23.ipynb\" target=\"_parent\"><img src=\"https://colab.research.google.com/assets/colab-badge.svg\" alt=\"Open In Colab\"/></a>"
      ]
    },
    {
      "cell_type": "markdown",
      "source": [
        "##Classwork 2-21-23 $\\rightarrow$ **Use seperate codeblocks**"
      ],
      "metadata": {
        "id": "QMgbc_9Hj6r9"
      }
    },
    {
      "cell_type": "code",
      "source": [
        "from math import *"
      ],
      "metadata": {
        "id": "fezHjanwgtK5"
      },
      "execution_count": 7,
      "outputs": []
    },
    {
      "cell_type": "code",
      "execution_count": 16,
      "metadata": {
        "id": "L0ghbaHdgCNZ"
      },
      "outputs": [],
      "source": [
        "L = list(range(0,101))"
      ]
    },
    {
      "cell_type": "markdown",
      "source": [
        "List comprehension:\n",
        "\n",
        "*this is of the form [$f(x)$ for i in range(length)]*"
      ],
      "metadata": {
        "id": "8TqwdlhrkWLM"
      }
    },
    {
      "cell_type": "code",
      "source": [
        "L_squared = [i*i for i in range(0,101)]"
      ],
      "metadata": {
        "id": "M7LYPVQdglT2"
      },
      "execution_count": 23,
      "outputs": []
    },
    {
      "cell_type": "code",
      "source": [
        "def sq_list(L):\n",
        "  S=[]\n",
        "  for i in L:\n",
        "    S.append(i*i)\n",
        "  return S"
      ],
      "metadata": {
        "id": "PktIyd0Ahw5U"
      },
      "execution_count": 35,
      "outputs": []
    },
    {
      "cell_type": "code",
      "source": [
        "L_new = list(range(1000000))"
      ],
      "metadata": {
        "id": "DEhJZXiKijIN"
      },
      "execution_count": 36,
      "outputs": []
    },
    {
      "cell_type": "code",
      "source": [
        "%timeit sq_list(L_new)"
      ],
      "metadata": {
        "colab": {
          "base_uri": "https://localhost:8080/"
        },
        "id": "YADa2bYZizzM",
        "outputId": "ce553201-92cf-442c-a3d8-5d40da48bdd7"
      },
      "execution_count": 38,
      "outputs": [
        {
          "output_type": "stream",
          "name": "stdout",
          "text": [
            "128 ms ± 26.8 ms per loop (mean ± std. dev. of 7 runs, 10 loops each)\n"
          ]
        }
      ]
    },
    {
      "cell_type": "markdown",
      "source": [
        "###**Today we will start using a package called NumPy**\n",
        "\n",
        "#####numpy (+ scipi) + PIL (Python Imaging Library) + matplotlib"
      ],
      "metadata": {
        "id": "FFFiXmc4lKBr"
      }
    },
    {
      "cell_type": "code",
      "source": [
        "import numpy as np"
      ],
      "metadata": {
        "id": "94AtfVdllSxi"
      },
      "execution_count": 40,
      "outputs": []
    },
    {
      "cell_type": "code",
      "source": [
        "A = np.arange(0,101)\n",
        "print(A)"
      ],
      "metadata": {
        "colab": {
          "base_uri": "https://localhost:8080/"
        },
        "id": "xitQXCbsl9om",
        "outputId": "a8be13a6-8eb9-4690-94d1-64e3517b14a0"
      },
      "execution_count": 41,
      "outputs": [
        {
          "output_type": "stream",
          "name": "stdout",
          "text": [
            "[  0   1   2   3   4   5   6   7   8   9  10  11  12  13  14  15  16  17\n",
            "  18  19  20  21  22  23  24  25  26  27  28  29  30  31  32  33  34  35\n",
            "  36  37  38  39  40  41  42  43  44  45  46  47  48  49  50  51  52  53\n",
            "  54  55  56  57  58  59  60  61  62  63  64  65  66  67  68  69  70  71\n",
            "  72  73  74  75  76  77  78  79  80  81  82  83  84  85  86  87  88  89\n",
            "  90  91  92  93  94  95  96  97  98  99 100]\n"
          ]
        }
      ]
    },
    {
      "cell_type": "code",
      "source": [
        "print(A*A)"
      ],
      "metadata": {
        "colab": {
          "base_uri": "https://localhost:8080/"
        },
        "id": "3-bU9M_-mC24",
        "outputId": "0c5efdf8-bc3d-4e1d-8418-68ba10d917d5"
      },
      "execution_count": 42,
      "outputs": [
        {
          "output_type": "stream",
          "name": "stdout",
          "text": [
            "[    0     1     4     9    16    25    36    49    64    81   100   121\n",
            "   144   169   196   225   256   289   324   361   400   441   484   529\n",
            "   576   625   676   729   784   841   900   961  1024  1089  1156  1225\n",
            "  1296  1369  1444  1521  1600  1681  1764  1849  1936  2025  2116  2209\n",
            "  2304  2401  2500  2601  2704  2809  2916  3025  3136  3249  3364  3481\n",
            "  3600  3721  3844  3969  4096  4225  4356  4489  4624  4761  4900  5041\n",
            "  5184  5329  5476  5625  5776  5929  6084  6241  6400  6561  6724  6889\n",
            "  7056  7225  7396  7569  7744  7921  8100  8281  8464  8649  8836  9025\n",
            "  9216  9409  9604  9801 10000]\n"
          ]
        }
      ]
    },
    {
      "cell_type": "code",
      "source": [
        "%timeit A*A"
      ],
      "metadata": {
        "colab": {
          "base_uri": "https://localhost:8080/"
        },
        "id": "3wOxoFsCmGZa",
        "outputId": "0c736e6e-e875-495e-b915-bdf63b549029"
      },
      "execution_count": 43,
      "outputs": [
        {
          "output_type": "stream",
          "name": "stdout",
          "text": [
            "827 ns ± 276 ns per loop (mean ± std. dev. of 7 runs, 1000000 loops each)\n"
          ]
        }
      ]
    },
    {
      "cell_type": "code",
      "source": [
        "A = np.arange(0,1000000) #do not print this"
      ],
      "metadata": {
        "id": "aClMmL1bmPAl"
      },
      "execution_count": 47,
      "outputs": []
    },
    {
      "cell_type": "code",
      "source": [
        "%timeit A*A"
      ],
      "metadata": {
        "colab": {
          "base_uri": "https://localhost:8080/"
        },
        "id": "VqrjgyCSmVtY",
        "outputId": "11be6f74-ec12-429a-8d24-18f16c12b49f"
      },
      "execution_count": 48,
      "outputs": [
        {
          "output_type": "stream",
          "name": "stdout",
          "text": [
            "1 ms ± 155 µs per loop (mean ± std. dev. of 7 runs, 1000 loops each)\n"
          ]
        }
      ]
    },
    {
      "cell_type": "markdown",
      "source": [
        "Vectorization is incredibly important for data science. NumPy uses vectorization."
      ],
      "metadata": {
        "id": "WULFj3MQnEgO"
      }
    },
    {
      "cell_type": "code",
      "source": [
        "%timeit np.sin(A)"
      ],
      "metadata": {
        "colab": {
          "base_uri": "https://localhost:8080/"
        },
        "id": "SBi28OQOnLG-",
        "outputId": "8a401826-defb-4f81-c1bc-4af2b44c9f8e"
      },
      "execution_count": 49,
      "outputs": [
        {
          "output_type": "stream",
          "name": "stdout",
          "text": [
            "21.2 ms ± 2.55 ms per loop (mean ± std. dev. of 7 runs, 100 loops each)\n"
          ]
        }
      ]
    },
    {
      "cell_type": "code",
      "source": [
        "%timeit np.sum(A)"
      ],
      "metadata": {
        "colab": {
          "base_uri": "https://localhost:8080/"
        },
        "id": "xCn-PvJFnrxL",
        "outputId": "2ce3e25c-ecab-48d5-96a3-4da0ffc1be49"
      },
      "execution_count": 51,
      "outputs": [
        {
          "output_type": "stream",
          "name": "stdout",
          "text": [
            "756 µs ± 62.4 µs per loop (mean ± std. dev. of 7 runs, 1000 loops each)\n"
          ]
        }
      ]
    },
    {
      "cell_type": "code",
      "source": [
        "%timeit np.mean(A)"
      ],
      "metadata": {
        "colab": {
          "base_uri": "https://localhost:8080/"
        },
        "id": "qOjozCpBnxNy",
        "outputId": "b441023a-fdac-4869-bf3b-56c90b9fa1f2"
      },
      "execution_count": 52,
      "outputs": [
        {
          "output_type": "stream",
          "name": "stdout",
          "text": [
            "1.31 ms ± 289 µs per loop (mean ± std. dev. of 7 runs, 1000 loops each)\n"
          ]
        }
      ]
    },
    {
      "cell_type": "code",
      "source": [
        "A = np.arange(0,101)"
      ],
      "metadata": {
        "id": "Eis4IVnUn3fi"
      },
      "execution_count": 58,
      "outputs": []
    },
    {
      "cell_type": "code",
      "source": [
        "%timeit np.cumsum(A)"
      ],
      "metadata": {
        "colab": {
          "base_uri": "https://localhost:8080/"
        },
        "id": "sv-iW9Qwn7By",
        "outputId": "0d915338-fec8-459d-8f51-f1aa1a024033"
      },
      "execution_count": 59,
      "outputs": [
        {
          "output_type": "stream",
          "name": "stdout",
          "text": [
            "2.29 µs ± 67.2 ns per loop (mean ± std. dev. of 7 runs, 100000 loops each)\n"
          ]
        }
      ]
    },
    {
      "cell_type": "code",
      "source": [
        "A = np.arange(0,10,0.1)"
      ],
      "metadata": {
        "id": "GBS33jmZoxwb"
      },
      "execution_count": 61,
      "outputs": []
    },
    {
      "cell_type": "code",
      "source": [
        "print(A)"
      ],
      "metadata": {
        "colab": {
          "base_uri": "https://localhost:8080/"
        },
        "id": "bG1RVzQxo1RG",
        "outputId": "4dee3fcb-c804-416a-be67-350a3e0794f5"
      },
      "execution_count": 64,
      "outputs": [
        {
          "output_type": "stream",
          "name": "stdout",
          "text": [
            "[0.  0.1 0.2 0.3 0.4 0.5 0.6 0.7 0.8 0.9 1.  1.1 1.2 1.3 1.4 1.5 1.6 1.7\n",
            " 1.8 1.9 2.  2.1 2.2 2.3 2.4 2.5 2.6 2.7 2.8 2.9 3.  3.1 3.2 3.3 3.4 3.5\n",
            " 3.6 3.7 3.8 3.9 4.  4.1 4.2 4.3 4.4 4.5 4.6 4.7 4.8 4.9 5.  5.1 5.2 5.3\n",
            " 5.4 5.5 5.6 5.7 5.8 5.9 6.  6.1 6.2 6.3 6.4 6.5 6.6 6.7 6.8 6.9 7.  7.1\n",
            " 7.2 7.3 7.4 7.5 7.6 7.7 7.8 7.9 8.  8.1 8.2 8.3 8.4 8.5 8.6 8.7 8.8 8.9\n",
            " 9.  9.1 9.2 9.3 9.4 9.5 9.6 9.7 9.8 9.9]\n"
          ]
        }
      ]
    },
    {
      "cell_type": "code",
      "source": [
        "B = np.sin(A)"
      ],
      "metadata": {
        "id": "v4Q9TsxBo-CO"
      },
      "execution_count": 65,
      "outputs": []
    },
    {
      "cell_type": "markdown",
      "source": [
        "Lets plot it."
      ],
      "metadata": {
        "id": "Z-XfYoBLpQB3"
      }
    },
    {
      "cell_type": "code",
      "source": [
        "import matplotlib.pyplot as plt"
      ],
      "metadata": {
        "id": "4SuuIw63pBu1"
      },
      "execution_count": 69,
      "outputs": []
    },
    {
      "cell_type": "code",
      "source": [
        "%matplotlib inline\n",
        "plt.plot(A,B)\n",
        "plt.show()"
      ],
      "metadata": {
        "colab": {
          "base_uri": "https://localhost:8080/",
          "height": 265
        },
        "id": "jMirwF5OpSgk",
        "outputId": "4c63f400-1e7c-476b-bdda-25861ec8ecee"
      },
      "execution_count": 79,
      "outputs": [
        {
          "output_type": "display_data",
          "data": {
            "text/plain": [
              "<Figure size 432x288 with 1 Axes>"
            ],
            "image/png": "[encoded data removed]"
          },
          "metadata": {
            "needs_background": "light"
          }
        }
      ]
    },
    {
      "cell_type": "code",
      "source": [
        "C = np.cos(A)"
      ],
      "metadata": {
        "id": "jIrrPHzkqFfa"
      },
      "execution_count": 80,
      "outputs": []
    },
    {
      "cell_type": "code",
      "source": [
        "plt.plot(A,B)\n",
        "plt.plot(A,C)"
      ],
      "metadata": {
        "colab": {
          "base_uri": "https://localhost:8080/",
          "height": 283
        },
        "id": "6D315TD2qKgt",
        "outputId": "76b8b3a3-55aa-41b2-ec67-e09556cd7239"
      },
      "execution_count": 86,
      "outputs": [
        {
          "output_type": "execute_result",
          "data": {
            "text/plain": [
              "[<matplotlib.lines.Line2D at 0x7f7cba472df0>]"
            ]
          },
          "metadata": {},
          "execution_count": 86
        },
        {
          "output_type": "display_data",
          "data": {
            "text/plain": [
              "<Figure size 432x288 with 1 Axes>"
            ],
            "image/png": "[encoded data removed]"
          },
          "metadata": {
            "needs_background": "light"
          }
        }
      ]
    },
    {
      "cell_type": "markdown",
      "source": [
        "Worthy to note: Seaborn package for plotting."
      ],
      "metadata": {
        "id": "uuucnPPmqshS"
      }
    },
    {
      "cell_type": "code",
      "source": [],
      "metadata": {
        "id": "V7o30BOIqwhy"
      },
      "execution_count": null,
      "outputs": []
    }
  ]
}