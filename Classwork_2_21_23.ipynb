{
  "nbformat": 4,
  "nbformat_minor": 0,
  "metadata": {
    "colab": {
      "provenance": [],
      "authorship_tag": "ABX9TyNOfwRRAz6kUiu5c0H0xrcQ",
      "include_colab_link": true
    },
    "kernelspec": {
      "name": "python3",
      "display_name": "Python 3"
    },
    "language_info": {
      "name": "python"
    }
  },
  "cells": [
    {
      "cell_type": "markdown",
      "metadata": {
        "id": "view-in-github",
        "colab_type": "text"
      },
      "source": [
        "<a href=\"https://colab.research.google.com/github/JoshuaBarsky/Math-152/blob/main/Classwork_2_21_23.ipynb\" target=\"_parent\"><img src=\"https://colab.research.google.com/assets/colab-badge.svg\" alt=\"Open In Colab\"/></a>"
      ]
    },
    {
      "cell_type": "markdown",
      "source": [
        "##Classwork 2-21-23 $\\rightarrow$ **Use seperate codeblocks**"
      ],
      "metadata": {
        "id": "QMgbc_9Hj6r9"
      }
    },
    {
      "cell_type": "code",
      "source": [
        "from math import *"
      ],
      "metadata": {
        "id": "fezHjanwgtK5"
      },
      "execution_count": 7,
      "outputs": []
    },
    {
      "cell_type": "code",
      "execution_count": 16,
      "metadata": {
        "id": "L0ghbaHdgCNZ"
      },
      "outputs": [],
      "source": [
        "L = list(range(0,101))"
      ]
    },
    {
      "cell_type": "markdown",
      "source": [
        "List comprehension:\n",
        "\n",
        "*this is of the form [$f(x)$ for i in range(length)]*"
      ],
      "metadata": {
        "id": "8TqwdlhrkWLM"
      }
    },
    {
      "cell_type": "code",
      "source": [
        "L_squared = [i*i for i in range(0,101)]"
      ],
      "metadata": {
        "id": "M7LYPVQdglT2"
      },
      "execution_count": 23,
      "outputs": []
    },
    {
      "cell_type": "code",
      "source": [
        "def sq_list(L):\n",
        "  S=[]\n",
        "  for i in L:\n",
        "    S.append(i*i)\n",
        "  return S"
      ],
      "metadata": {
        "id": "PktIyd0Ahw5U"
      },
      "execution_count": 35,
      "outputs": []
    },
    {
      "cell_type": "code",
      "source": [
        "L_new = list(range(1000000))"
      ],
      "metadata": {
        "id": "DEhJZXiKijIN"
      },
      "execution_count": 36,
      "outputs": []
    },
    {
      "cell_type": "code",
      "source": [
        "%timeit sq_list(L_new)"
      ],
      "metadata": {
        "colab": {
          "base_uri": "https://localhost:8080/"
        },
        "id": "YADa2bYZizzM",
        "outputId": "ce553201-92cf-442c-a3d8-5d40da48bdd7"
      },
      "execution_count": 38,
      "outputs": [
        {
          "output_type": "stream",
          "name": "stdout",
          "text": [
            "128 ms ± 26.8 ms per loop (mean ± std. dev. of 7 runs, 10 loops each)\n"
          ]
        }
      ]
    },
    {
      "cell_type": "markdown",
      "source": [
        "###**Today we will start using a package called NumPy**\n",
        "\n",
        "#####numpy (+ scipi) + PIL + matplotlib"
      ],
      "metadata": {
        "id": "FFFiXmc4lKBr"
      }
    },
    {
      "cell_type": "code",
      "source": [
        "import numpy as np"
      ],
      "metadata": {
        "id": "94AtfVdllSxi"
      },
      "execution_count": 40,
      "outputs": []
    },
    {
      "cell_type": "code",
      "source": [
        "A = np.arange(0,101)\n",
        "print(A)"
      ],
      "metadata": {
        "colab": {
          "base_uri": "https://localhost:8080/"
        },
        "id": "xitQXCbsl9om",
        "outputId": "a8be13a6-8eb9-4690-94d1-64e3517b14a0"
      },
      "execution_count": 41,
      "outputs": [
        {
          "output_type": "stream",
          "name": "stdout",
          "text": [
            "[  0   1   2   3   4   5   6   7   8   9  10  11  12  13  14  15  16  17\n",
            "  18  19  20  21  22  23  24  25  26  27  28  29  30  31  32  33  34  35\n",
            "  36  37  38  39  40  41  42  43  44  45  46  47  48  49  50  51  52  53\n",
            "  54  55  56  57  58  59  60  61  62  63  64  65  66  67  68  69  70  71\n",
            "  72  73  74  75  76  77  78  79  80  81  82  83  84  85  86  87  88  89\n",
            "  90  91  92  93  94  95  96  97  98  99 100]\n"
          ]
        }
      ]
    },
    {
      "cell_type": "code",
      "source": [
        "print(A*A)"
      ],
      "metadata": {
        "colab": {
          "base_uri": "https://localhost:8080/"
        },
        "id": "3-bU9M_-mC24",
        "outputId": "0c5efdf8-bc3d-4e1d-8418-68ba10d917d5"
      },
      "execution_count": 42,
      "outputs": [
        {
          "output_type": "stream",
          "name": "stdout",
          "text": [
            "[    0     1     4     9    16    25    36    49    64    81   100   121\n",
            "   144   169   196   225   256   289   324   361   400   441   484   529\n",
            "   576   625   676   729   784   841   900   961  1024  1089  1156  1225\n",
            "  1296  1369  1444  1521  1600  1681  1764  1849  1936  2025  2116  2209\n",
            "  2304  2401  2500  2601  2704  2809  2916  3025  3136  3249  3364  3481\n",
            "  3600  3721  3844  3969  4096  4225  4356  4489  4624  4761  4900  5041\n",
            "  5184  5329  5476  5625  5776  5929  6084  6241  6400  6561  6724  6889\n",
            "  7056  7225  7396  7569  7744  7921  8100  8281  8464  8649  8836  9025\n",
            "  9216  9409  9604  9801 10000]\n"
          ]
        }
      ]
    },
    {
      "cell_type": "code",
      "source": [
        "%timeit A*A"
      ],
      "metadata": {
        "colab": {
          "base_uri": "https://localhost:8080/"
        },
        "id": "3wOxoFsCmGZa",
        "outputId": "0c736e6e-e875-495e-b915-bdf63b549029"
      },
      "execution_count": 43,
      "outputs": [
        {
          "output_type": "stream",
          "name": "stdout",
          "text": [
            "827 ns ± 276 ns per loop (mean ± std. dev. of 7 runs, 1000000 loops each)\n"
          ]
        }
      ]
    },
    {
      "cell_type": "code",
      "source": [
        "A = np.arange(0,1000000)"
      ],
      "metadata": {
        "id": "aClMmL1bmPAl"
      },
      "execution_count": 44,
      "outputs": []
    },
    {
      "cell_type": "code",
      "source": [
        "%timeit A*A"
      ],
      "metadata": {
        "colab": {
          "base_uri": "https://localhost:8080/"
        },
        "id": "VqrjgyCSmVtY",
        "outputId": "651971a2-b588-4777-95ce-6279b686a163"
      },
      "execution_count": 46,
      "outputs": [
        {
          "output_type": "stream",
          "name": "stdout",
          "text": [
            "993 µs ± 138 µs per loop (mean ± std. dev. of 7 runs, 1000 loops each)\n"
          ]
        }
      ]
    }
  ]
}