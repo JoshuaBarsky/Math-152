{
  "nbformat": 4,
  "nbformat_minor": 0,
  "metadata": {
    "colab": {
      "provenance": [],
      "authorship_tag": "ABX9TyOVRUe0kIXhbNmjX7RWiNXS",
      "include_colab_link": true
    },
    "kernelspec": {
      "name": "python3",
      "display_name": "Python 3"
    },
    "language_info": {
      "name": "python"
    }
  },
  "cells": [
    {
      "cell_type": "markdown",
      "metadata": {
        "id": "view-in-github",
        "colab_type": "text"
      },
      "source": [
        "<a href=\"https://colab.research.google.com/github/JoshuaBarsky/Math-152/blob/main/Classwork_2_23_23.ipynb\" target=\"_parent\"><img src=\"https://colab.research.google.com/assets/colab-badge.svg\" alt=\"Open In Colab\"/></a>"
      ]
    },
    {
      "cell_type": "code",
      "source": [
        "import numpy as np"
      ],
      "metadata": {
        "id": "73AH2zZr0i1l"
      },
      "execution_count": 1,
      "outputs": []
    },
    {
      "cell_type": "markdown",
      "source": [
        "Suppose you have two 6-sided dice.\n",
        "\n",
        "Possible outcomes for sum: 2,3,4,...,12.\n",
        "\n",
        "Prob(12) = $\\frac{1}{36}$\n",
        "\n",
        "Prob(11) = $\\frac{2}{36}$\n",
        "\n",
        "Prob(10) = $\\frac{3}{36}$\n",
        "\n",
        "...\n",
        "\n",
        "Prob(7) = $\\frac{6}{36}$\n"
      ],
      "metadata": {
        "id": "uiBND21i0DZd"
      }
    },
    {
      "cell_type": "code",
      "execution_count": 63,
      "metadata": {
        "colab": {
          "base_uri": "https://localhost:8080/"
        },
        "id": "ik2WHGaXz6sf",
        "outputId": "706a79b9-f54f-44f0-bb1a-f6e1ff1f2ac5"
      },
      "outputs": [
        {
          "output_type": "stream",
          "name": "stdout",
          "text": [
            "[[3 6 4 2 4 5 2 3 1 3]\n",
            " [5 1 4 1 6 6 1 2 6 1]]\n"
          ]
        }
      ],
      "source": [
        "D = np.random.randint(1,7,(2,10))\n",
        "print(D)"
      ]
    },
    {
      "cell_type": "code",
      "source": [
        "type(D) #type of the list"
      ],
      "metadata": {
        "colab": {
          "base_uri": "https://localhost:8080/"
        },
        "id": "1t3xeygk1Ror",
        "outputId": "ef0afdbe-cf62-4b8c-e7ad-3927032af670"
      },
      "execution_count": 15,
      "outputs": [
        {
          "output_type": "execute_result",
          "data": {
            "text/plain": [
              "numpy.ndarray"
            ]
          },
          "metadata": {},
          "execution_count": 15
        }
      ]
    },
    {
      "cell_type": "code",
      "source": [
        "D.dtype #type of the container - type of stuff inside of the array"
      ],
      "metadata": {
        "colab": {
          "base_uri": "https://localhost:8080/"
        },
        "id": "CxUKNBJf1Udr",
        "outputId": "2e3ab483-cce7-4cdc-d150-afff079f4924"
      },
      "execution_count": 16,
      "outputs": [
        {
          "output_type": "execute_result",
          "data": {
            "text/plain": [
              "dtype('int64')"
            ]
          },
          "metadata": {},
          "execution_count": 16
        }
      ]
    },
    {
      "cell_type": "code",
      "source": [
        "D.shape #shape of the array"
      ],
      "metadata": {
        "colab": {
          "base_uri": "https://localhost:8080/"
        },
        "id": "9vPfJgcl1mrx",
        "outputId": "9c9a23fa-1953-48f8-d0b4-983d8490c032"
      },
      "execution_count": 18,
      "outputs": [
        {
          "output_type": "execute_result",
          "data": {
            "text/plain": [
              "(2, 10)"
            ]
          },
          "metadata": {},
          "execution_count": 18
        }
      ]
    },
    {
      "cell_type": "code",
      "source": [
        "D_new = np.random.randint(1,7,(2,1000000))\n"
      ],
      "metadata": {
        "id": "2uWsoLtt2DK0"
      },
      "execution_count": 22,
      "outputs": []
    },
    {
      "cell_type": "code",
      "source": [
        "S = np.sum(D_new, axis=0)"
      ],
      "metadata": {
        "id": "0TjGtVMM2Vwo"
      },
      "execution_count": 29,
      "outputs": []
    },
    {
      "cell_type": "code",
      "source": [
        "D[:2,:10] #first 10 rolls of both dice"
      ],
      "metadata": {
        "colab": {
          "base_uri": "https://localhost:8080/"
        },
        "id": "FOckqRc02bRh",
        "outputId": "0b81426a-d32c-4651-e38a-ba387c094b0f"
      },
      "execution_count": 30,
      "outputs": [
        {
          "output_type": "execute_result",
          "data": {
            "text/plain": [
              "array([[1, 1, 4, 4, 5, 3, 6, 3, 6, 5],\n",
              "       [1, 2, 2, 1, 1, 3, 3, 3, 1, 3]])"
            ]
          },
          "metadata": {},
          "execution_count": 30
        }
      ]
    },
    {
      "cell_type": "code",
      "source": [
        "S[:10]"
      ],
      "metadata": {
        "colab": {
          "base_uri": "https://localhost:8080/"
        },
        "id": "EmEmwSXU2vtM",
        "outputId": "405626fb-5657-4aaf-88b9-e90fe978ee3f"
      },
      "execution_count": 31,
      "outputs": [
        {
          "output_type": "execute_result",
          "data": {
            "text/plain": [
              "array([ 4,  7,  8,  4,  7,  7,  3, 10, 10,  4])"
            ]
          },
          "metadata": {},
          "execution_count": 31
        }
      ]
    },
    {
      "cell_type": "code",
      "source": [
        "S.shape"
      ],
      "metadata": {
        "colab": {
          "base_uri": "https://localhost:8080/"
        },
        "id": "HK63ZSek3Fsc",
        "outputId": "2a733906-eff1-4381-df90-9e2e4b95a3d8"
      },
      "execution_count": 32,
      "outputs": [
        {
          "output_type": "execute_result",
          "data": {
            "text/plain": [
              "(1000000,)"
            ]
          },
          "metadata": {},
          "execution_count": 32
        }
      ]
    },
    {
      "cell_type": "code",
      "source": [
        "counts = np.unique(S, return_counts=True)"
      ],
      "metadata": {
        "id": "zFPlhitv3jD-"
      },
      "execution_count": 33,
      "outputs": []
    },
    {
      "cell_type": "code",
      "source": [
        "print(counts)"
      ],
      "metadata": {
        "colab": {
          "base_uri": "https://localhost:8080/"
        },
        "id": "Z-GIqJ2W3onH",
        "outputId": "f2322ce8-a4db-4cee-f5bf-d2f0893b31e1"
      },
      "execution_count": 34,
      "outputs": [
        {
          "output_type": "stream",
          "name": "stdout",
          "text": [
            "(array([ 2,  3,  4,  5,  6,  7,  8,  9, 10, 11, 12]), array([ 27779,  55800,  83439, 110889, 139434, 166837, 138734, 110992,\n",
            "        82936,  55608,  27552]))\n"
          ]
        }
      ]
    },
    {
      "cell_type": "code",
      "source": [
        "import matplotlib.pyplot as plt\n",
        "plt.hist((S), bins=11)"
      ],
      "metadata": {
        "colab": {
          "base_uri": "https://localhost:8080/",
          "height": 372
        },
        "id": "2JvQ4wJV4-an",
        "outputId": "db83ec3a-5c49-4e79-94bf-df2ab8367b3d"
      },
      "execution_count": 40,
      "outputs": [
        {
          "output_type": "execute_result",
          "data": {
            "text/plain": [
              "(array([ 27779.,  55800.,  83439., 110889., 139434., 166837., 138734.,\n",
              "        110992.,  82936.,  55608.,  27552.]),\n",
              " array([ 2.        ,  2.90909091,  3.81818182,  4.72727273,  5.63636364,\n",
              "         6.54545455,  7.45454545,  8.36363636,  9.27272727, 10.18181818,\n",
              "        11.09090909, 12.        ]),\n",
              " <BarContainer object of 11 artists>)"
            ]
          },
          "metadata": {},
          "execution_count": 40
        },
        {
          "output_type": "display_data",
          "data": {
            "text/plain": [
              "<Figure size 432x288 with 1 Axes>"
            ],
            "image/png": "[encoded data removed]"
          },
          "metadata": {
            "needs_background": "light"
          }
        }
      ]
    },
    {
      "cell_type": "code",
      "source": [
        "M = np.random.choice([0,1], [4,4]) "
      ],
      "metadata": {
        "id": "uCcHE0y16O3L"
      },
      "execution_count": 54,
      "outputs": []
    },
    {
      "cell_type": "code",
      "source": [
        "type(M)"
      ],
      "metadata": {
        "colab": {
          "base_uri": "https://localhost:8080/"
        },
        "id": "0fZjS5rR6jA0",
        "outputId": "f7783d72-6008-43e2-edba-b4c62b6ea779"
      },
      "execution_count": 48,
      "outputs": [
        {
          "output_type": "execute_result",
          "data": {
            "text/plain": [
              "numpy.ndarray"
            ]
          },
          "metadata": {},
          "execution_count": 48
        }
      ]
    },
    {
      "cell_type": "code",
      "source": [
        "M.shape"
      ],
      "metadata": {
        "colab": {
          "base_uri": "https://localhost:8080/"
        },
        "id": "rEcsURxI6kvZ",
        "outputId": "98f19bce-18a4-4120-8f76-24e55b8052e8"
      },
      "execution_count": 49,
      "outputs": [
        {
          "output_type": "execute_result",
          "data": {
            "text/plain": [
              "(4, 4)"
            ]
          },
          "metadata": {},
          "execution_count": 49
        }
      ]
    },
    {
      "cell_type": "code",
      "source": [
        "M.dtype"
      ],
      "metadata": {
        "colab": {
          "base_uri": "https://localhost:8080/"
        },
        "id": "r3cNZ2fH6mGs",
        "outputId": "d5e8cfbc-7f20-4f72-958f-153a34eac6f5"
      },
      "execution_count": 50,
      "outputs": [
        {
          "output_type": "execute_result",
          "data": {
            "text/plain": [
              "dtype('int64')"
            ]
          },
          "metadata": {},
          "execution_count": 50
        }
      ]
    },
    {
      "cell_type": "code",
      "source": [
        "print(M)"
      ],
      "metadata": {
        "colab": {
          "base_uri": "https://localhost:8080/"
        },
        "id": "K9jUgGAy6no1",
        "outputId": "8a79aa37-bb6a-4c01-ebad-2f2032b691a4"
      },
      "execution_count": 55,
      "outputs": [
        {
          "output_type": "stream",
          "name": "stdout",
          "text": [
            "[[1 0 1 1]\n",
            " [1 1 1 0]\n",
            " [1 1 1 1]\n",
            " [1 1 0 1]]\n"
          ]
        }
      ]
    },
    {
      "cell_type": "markdown",
      "source": [
        "##Determinant\n",
        "\n",
        "det: {nxn matricies} → $\\mathbb{R}$\n",
        "\n",
        "(1) det of a diagonal matrix with elements [$\\lambda_0$, ..., $\\lambda_n$], the determinant is $\\lambda_0$$\\cdot$ ... $\\cdot$$\\lambda_n$.\n",
        "\n",
        "(2) switch rows/columns $\\implies$ det switch sign ($\\pm$).\n",
        "\n",
        "(3) add one row to another $\\implies$ det doesn't change."
      ],
      "metadata": {
        "id": "I2Fdlks27SX5"
      }
    },
    {
      "cell_type": "markdown",
      "source": [
        "Side note: \"computational linear algebra makes the world go round these days\" - Prof Weissman\n",
        "\n",
        "Google got its start by doing large matrix computations"
      ],
      "metadata": {
        "id": "rYZG0-kJ9Ch3"
      }
    },
    {
      "cell_type": "code",
      "source": [
        "np.linalg.det(M) #useful property of det - allows you to know if the matrix is invertable"
      ],
      "metadata": {
        "colab": {
          "base_uri": "https://localhost:8080/"
        },
        "id": "RZ21QuGO61ww",
        "outputId": "37efbb5e-26ac-4c0c-cfc2-b0c32eaf500d"
      },
      "execution_count": 58,
      "outputs": [
        {
          "output_type": "execute_result",
          "data": {
            "text/plain": [
              "1.0"
            ]
          },
          "metadata": {},
          "execution_count": 58
        }
      ]
    },
    {
      "cell_type": "code",
      "source": [
        "M = np.random.choice([0,1], [100,100])"
      ],
      "metadata": {
        "id": "f015eDNb8FNL"
      },
      "execution_count": 59,
      "outputs": []
    },
    {
      "cell_type": "code",
      "source": [
        "M.shape"
      ],
      "metadata": {
        "colab": {
          "base_uri": "https://localhost:8080/"
        },
        "id": "aZHT2VJT8KbH",
        "outputId": "3f3d583b-7337-40b1-d88d-b9f80bbce5e3"
      },
      "execution_count": 60,
      "outputs": [
        {
          "output_type": "execute_result",
          "data": {
            "text/plain": [
              "(100, 100)"
            ]
          },
          "metadata": {},
          "execution_count": 60
        }
      ]
    },
    {
      "cell_type": "code",
      "source": [
        "import matplotlib.pyplot as plt\n",
        "\n",
        "fig, ax = plt.subplots()\n",
        "ax.set(xlim=(0, 7), xticks=np.arange(1, 7),\n",
        "       ylim=(0, 7), yticks=np.arange(1, 7))\n",
        "ax.scatter(D[0], D[1])\n",
        "plt.show()"
      ],
      "metadata": {
        "colab": {
          "base_uri": "https://localhost:8080/",
          "height": 265
        },
        "id": "X-8MNvos3p2g",
        "outputId": "68f11cf5-93ce-4a76-b709-bbaa405a45ba"
      },
      "execution_count": 64,
      "outputs": [
        {
          "output_type": "display_data",
          "data": {
            "text/plain": [
              "<Figure size 432x288 with 1 Axes>"
            ],
            "image/png": "[encoded data removed]"
          },
          "metadata": {
            "needs_background": "light"
          }
        }
      ]
    }
  ]
}