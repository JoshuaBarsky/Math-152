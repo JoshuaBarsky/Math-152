{
  "nbformat": 4,
  "nbformat_minor": 0,
  "metadata": {
    "colab": {
      "provenance": [],
      "authorship_tag": "ABX9TyPjtKI9fcR386qh8Hsucv3+",
      "include_colab_link": true
    },
    "kernelspec": {
      "name": "python3",
      "display_name": "Python 3"
    },
    "language_info": {
      "name": "python"
    }
  },
  "cells": [
    {
      "cell_type": "markdown",
      "metadata": {
        "id": "view-in-github",
        "colab_type": "text"
      },
      "source": [
        "<a href=\"https://colab.research.google.com/github/JoshuaBarsky/Math-152/blob/main/Classwork%202-21-23.ipynb\" target=\"_parent\"><img src=\"https://colab.research.google.com/assets/colab-badge.svg\" alt=\"Open In Colab\"/></a>"
      ]
    },
    {
      "cell_type": "markdown",
      "source": [
        "##Classwork 2-21-23 $\\rightarrow$ **Use seperate codeblocks**"
      ],
      "metadata": {
        "id": "QMgbc_9Hj6r9"
      }
    },
    {
      "cell_type": "code",
      "source": [
        "from math import *"
      ],
      "metadata": {
        "id": "fezHjanwgtK5"
      },
      "execution_count": 7,
      "outputs": []
    },
    {
      "cell_type": "code",
      "execution_count": 16,
      "metadata": {
        "id": "L0ghbaHdgCNZ"
      },
      "outputs": [],
      "source": [
        "L = list(range(0,101))"
      ]
    },
    {
      "cell_type": "markdown",
      "source": [
        "List comprehension:\n",
        "\n",
        "*this is of the form [$f(x)$ for i in range(length)]*"
      ],
      "metadata": {
        "id": "8TqwdlhrkWLM"
      }
    },
    {
      "cell_type": "code",
      "source": [
        "L_squared = [i*i for i in range(0,101)]"
      ],
      "metadata": {
        "id": "M7LYPVQdglT2"
      },
      "execution_count": 23,
      "outputs": []
    },
    {
      "cell_type": "code",
      "source": [
        "def sq_list(L):\n",
        "  S=[]\n",
        "  for i in L:\n",
        "    S.append(i*i)\n",
        "  return S"
      ],
      "metadata": {
        "id": "PktIyd0Ahw5U"
      },
      "execution_count": 35,
      "outputs": []
    },
    {
      "cell_type": "code",
      "source": [
        "L_new = list(range(1000000))"
      ],
      "metadata": {
        "id": "DEhJZXiKijIN"
      },
      "execution_count": 36,
      "outputs": []
    },
    {
      "cell_type": "code",
      "source": [
        "%timeit sq_list(L_new)"
      ],
      "metadata": {
        "colab": {
          "base_uri": "https://localhost:8080/"
        },
        "id": "YADa2bYZizzM",
        "outputId": "ce553201-92cf-442c-a3d8-5d40da48bdd7"
      },
      "execution_count": 38,
      "outputs": [
        {
          "output_type": "stream",
          "name": "stdout",
          "text": [
            "128 ms ± 26.8 ms per loop (mean ± std. dev. of 7 runs, 10 loops each)\n"
          ]
        }
      ]
    },
    {
      "cell_type": "markdown",
      "source": [
        "###**Today we will start using a package called NumPy**\n",
        "\n",
        "#####numpy (+ scipi) + PIL + matplotlib"
      ],
      "metadata": {
        "id": "FFFiXmc4lKBr"
      }
    },
    {
      "cell_type": "code",
      "source": [
        "import numpy as np"
      ],
      "metadata": {
        "id": "94AtfVdllSxi"
      },
      "execution_count": 40,
      "outputs": []
    }
  ]
}