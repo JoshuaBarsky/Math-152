{
  "nbformat": 4,
  "nbformat_minor": 0,
  "metadata": {
    "colab": {
      "provenance": [],
      "authorship_tag": "ABX9TyPLyZTzFAtCNew7PM3liV8M",
      "include_colab_link": true
    },
    "kernelspec": {
      "name": "python3",
      "display_name": "Python 3"
    },
    "language_info": {
      "name": "python"
    }
  },
  "cells": [
    {
      "cell_type": "markdown",
      "metadata": {
        "id": "view-in-github",
        "colab_type": "text"
      },
      "source": [
        "<a href=\"https://colab.research.google.com/github/JoshuaBarsky/Math-152/blob/main/Classwork_2_2_23.ipynb\" target=\"_parent\"><img src=\"https://colab.research.google.com/assets/colab-badge.svg\" alt=\"Open In Colab\"/></a>"
      ]
    },
    {
      "cell_type": "markdown",
      "source": [
        "##**Central Limit Theorem**"
      ],
      "metadata": {
        "id": "4QkGvYoJ5zl5"
      }
    },
    {
      "cell_type": "code",
      "execution_count": 1,
      "metadata": {
        "id": "Tv0VCITN5AuB"
      },
      "outputs": [],
      "source": [
        "import numpy as np"
      ]
    },
    {
      "cell_type": "code",
      "source": [
        "C = np.array([1,2,3,4,5])\n",
        "mu = np.mean(C)\n",
        "sigma = np.std(C)\n",
        "\n",
        "print(mu, sigma)"
      ],
      "metadata": {
        "colab": {
          "base_uri": "https://localhost:8080/"
        },
        "id": "HhTgcDg75GAr",
        "outputId": "8e3fc029-6bbf-445a-9ae1-48c34170d4a5"
      },
      "execution_count": 5,
      "outputs": [
        {
          "output_type": "stream",
          "name": "stdout",
          "text": [
            "3.0 1.4142135623730951\n"
          ]
        }
      ]
    },
    {
      "cell_type": "markdown",
      "source": [
        "**μ and σ are \"descriptive statistics\" about your data.**"
      ],
      "metadata": {
        "id": "TMM7YQbR5fp8"
      }
    },
    {
      "cell_type": "code",
      "source": [
        "N = 50"
      ],
      "metadata": {
        "id": "aJpHayl65Pvq"
      },
      "execution_count": null,
      "outputs": []
    },
    {
      "cell_type": "markdown",
      "source": [
        "(50 independently and identically distributed random variables)"
      ],
      "metadata": {
        "id": "OtMfadkx6DnT"
      }
    },
    {
      "cell_type": "code",
      "source": [
        "samp = np.random.choice(C, 50)\n",
        "print(samp)"
      ],
      "metadata": {
        "colab": {
          "base_uri": "https://localhost:8080/"
        },
        "id": "OUZpxwu16EiS",
        "outputId": "83096111-6e96-45de-ff9f-e2c878661533"
      },
      "execution_count": 6,
      "outputs": [
        {
          "output_type": "stream",
          "name": "stdout",
          "text": [
            "[3 4 5 4 3 2 1 3 2 5 5 5 4 1 5 5 1 2 5 1 3 1 5 1 1 4 1 4 4 5 5 3 2 2 3 2 1\n",
            " 2 3 2 5 4 5 3 5 2 5 1 1 1]\n"
          ]
        }
      ]
    },
    {
      "cell_type": "markdown",
      "source": [
        "What's the average of `samp`?"
      ],
      "metadata": {
        "id": "pl9py4RS6YZL"
      }
    },
    {
      "cell_type": "code",
      "source": [
        "np.mean(samp)"
      ],
      "metadata": {
        "colab": {
          "base_uri": "https://localhost:8080/"
        },
        "id": "rNuyu2XH6YF3",
        "outputId": "c75862cd-b232-4e06-c45c-4a819d0d51b5"
      },
      "execution_count": 7,
      "outputs": [
        {
          "output_type": "execute_result",
          "data": {
            "text/plain": [
              "3.04"
            ]
          },
          "metadata": {},
          "execution_count": 7
        }
      ]
    },
    {
      "cell_type": "code",
      "source": [],
      "metadata": {
        "id": "K6nuOQOz6D4B"
      },
      "execution_count": null,
      "outputs": []
    }
  ]
}