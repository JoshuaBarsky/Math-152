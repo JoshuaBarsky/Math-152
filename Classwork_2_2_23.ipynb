{
  "nbformat": 4,
  "nbformat_minor": 0,
  "metadata": {
    "colab": {
      "provenance": [],
      "authorship_tag": "ABX9TyM1u4iVOqqLXsuNay8pp6qA",
      "include_colab_link": true
    },
    "kernelspec": {
      "name": "python3",
      "display_name": "Python 3"
    },
    "language_info": {
      "name": "python"
    }
  },
  "cells": [
    {
      "cell_type": "markdown",
      "metadata": {
        "id": "view-in-github",
        "colab_type": "text"
      },
      "source": [
        "<a href=\"https://colab.research.google.com/github/JoshuaBarsky/Math-152/blob/main/Classwork_2_2_23.ipynb\" target=\"_parent\"><img src=\"https://colab.research.google.com/assets/colab-badge.svg\" alt=\"Open In Colab\"/></a>"
      ]
    },
    {
      "cell_type": "markdown",
      "source": [
        "##**Central Limit Theorem**"
      ],
      "metadata": {
        "id": "4QkGvYoJ5zl5"
      }
    },
    {
      "cell_type": "code",
      "execution_count": null,
      "metadata": {
        "id": "Tv0VCITN5AuB"
      },
      "outputs": [],
      "source": [
        "import numpy as np"
      ]
    },
    {
      "cell_type": "code",
      "source": [
        "C = np.array([1,2,3,4,5])\n",
        "mu = np.mean(C)\n",
        "sigma = np.std(C)\n",
        "\n",
        "print(mu, sigma)"
      ],
      "metadata": {
        "colab": {
          "base_uri": "https://localhost:8080/"
        },
        "id": "HhTgcDg75GAr",
        "outputId": "8e3fc029-6bbf-445a-9ae1-48c34170d4a5"
      },
      "execution_count": null,
      "outputs": [
        {
          "output_type": "stream",
          "name": "stdout",
          "text": [
            "3.0 1.4142135623730951\n"
          ]
        }
      ]
    },
    {
      "cell_type": "markdown",
      "source": [
        "**μ and σ are \"descriptive statistics\" about your data.**"
      ],
      "metadata": {
        "id": "TMM7YQbR5fp8"
      }
    },
    {
      "cell_type": "code",
      "source": [
        "N = 50"
      ],
      "metadata": {
        "id": "aJpHayl65Pvq"
      },
      "execution_count": null,
      "outputs": []
    },
    {
      "cell_type": "markdown",
      "source": [
        "(50 independently and identically distributed random variables)"
      ],
      "metadata": {
        "id": "OtMfadkx6DnT"
      }
    },
    {
      "cell_type": "code",
      "source": [
        "from ast import NamedExpr\n",
        "samp = np.random.choice(C, N)\n",
        "print(samp)"
      ],
      "metadata": {
        "colab": {
          "base_uri": "https://localhost:8080/"
        },
        "id": "OUZpxwu16EiS",
        "outputId": "75ef658b-45c6-4337-e813-8dfb1239da07"
      },
      "execution_count": null,
      "outputs": [
        {
          "output_type": "stream",
          "name": "stdout",
          "text": [
            "[2 1 5 4 5 3 2 4 1 4 2 2 4 5 5 1 3 2 1 2 1 4 2 4 4 1 2 4 2 1 5 1 1 1 2 5 4\n",
            " 2 3 3 4 5 4 1 4 1 2 1 4 2]\n"
          ]
        }
      ]
    },
    {
      "cell_type": "markdown",
      "source": [
        "What's the average of `samp`?"
      ],
      "metadata": {
        "id": "pl9py4RS6YZL"
      }
    },
    {
      "cell_type": "code",
      "source": [
        "np.mean(samp)"
      ],
      "metadata": {
        "colab": {
          "base_uri": "https://localhost:8080/"
        },
        "id": "rNuyu2XH6YF3",
        "outputId": "c75862cd-b232-4e06-c45c-4a819d0d51b5"
      },
      "execution_count": null,
      "outputs": [
        {
          "output_type": "execute_result",
          "data": {
            "text/plain": [
              "3.04"
            ]
          },
          "metadata": {},
          "execution_count": 7
        }
      ]
    },
    {
      "cell_type": "markdown",
      "source": [
        "⇑ This number should be pretty close to μ !\n",
        "\n",
        "Note: The sample mean should approach actual mean (μ) as length of sample approaches ∞."
      ],
      "metadata": {
        "id": "WksPNNt0694K"
      }
    },
    {
      "cell_type": "code",
      "source": [
        "tests = np.random.choice(C, (1000,N))"
      ],
      "metadata": {
        "id": "pJBBW4sM7uEj"
      },
      "execution_count": null,
      "outputs": []
    },
    {
      "cell_type": "code",
      "source": [
        "means = np.mean(tests, axis=1)\n",
        "means.shape"
      ],
      "metadata": {
        "colab": {
          "base_uri": "https://localhost:8080/"
        },
        "id": "RXZ-LFJw8XET",
        "outputId": "bddca830-77f3-4987-fd35-f6132c9c6683"
      },
      "execution_count": null,
      "outputs": [
        {
          "output_type": "execute_result",
          "data": {
            "text/plain": [
              "(1000,)"
            ]
          },
          "metadata": {},
          "execution_count": 21
        }
      ]
    },
    {
      "cell_type": "code",
      "source": [
        "means[:10]"
      ],
      "metadata": {
        "colab": {
          "base_uri": "https://localhost:8080/"
        },
        "id": "Fm4ZwxvX8eSx",
        "outputId": "f73fc294-1df3-49cd-9f78-b945652b4f8d"
      },
      "execution_count": null,
      "outputs": [
        {
          "output_type": "execute_result",
          "data": {
            "text/plain": [
              "array([2.92, 3.06, 3.02, 2.88, 3.24, 2.84, 2.64, 2.9 , 3.18, 2.92])"
            ]
          },
          "metadata": {},
          "execution_count": 22
        }
      ]
    },
    {
      "cell_type": "code",
      "source": [
        "import matplotlib.pyplot as plt"
      ],
      "metadata": {
        "id": "7vKD4d1s80aC"
      },
      "execution_count": 93,
      "outputs": []
    },
    {
      "cell_type": "code",
      "source": [
        "plt.hist(means, 100) #100 bins\n",
        "plt.show()"
      ],
      "metadata": {
        "colab": {
          "base_uri": "https://localhost:8080/",
          "height": 265
        },
        "id": "kRZ4ZSui83ax",
        "outputId": "f7039148-1e46-46f9-f794-eacedea49646"
      },
      "execution_count": null,
      "outputs": [
        {
          "output_type": "display_data",
          "data": {
            "text/plain": [
              "<Figure size 432x288 with 1 Axes>"
            ],
            "image/png": "[encoded data removed]"
          },
          "metadata": {
            "needs_background": "light"
          }
        }
      ]
    },
    {
      "cell_type": "code",
      "source": [],
      "metadata": {
        "id": "hqN_Bx8H86oH"
      },
      "execution_count": null,
      "outputs": []
    },
    {
      "cell_type": "markdown",
      "source": [
        "**Central Limit Theorem:** As $N$ → ∞, the distribution of $\\sqrt{N} \\cdot$(means - μ) approach $N(0, σ^2)$."
      ],
      "metadata": {
        "id": "YghJCC_Q93R3"
      }
    },
    {
      "cell_type": "code",
      "source": [
        "devs = np.sqrt(N)*(means-mu)"
      ],
      "metadata": {
        "id": "k5uftxxm-kAg"
      },
      "execution_count": null,
      "outputs": []
    },
    {
      "cell_type": "markdown",
      "source": [
        "Use matplotlib to: \n",
        "\n",
        "(1) make a histogram of devs.\n",
        "\n",
        "(2) Overlay the graph of y = $\\frac{a}{σ\\sqrt{2*\\pi}} \\cdot e^{\\frac{1}{2}(\\frac{x}{σ}^2)}$.\n"
      ],
      "metadata": {
        "id": "TBQregWS-rMU"
      }
    },
    {
      "cell_type": "code",
      "source": [
        "import math"
      ],
      "metadata": {
        "id": "WRh0BvPDAyZh"
      },
      "execution_count": null,
      "outputs": []
    },
    {
      "cell_type": "code",
      "source": [
        "def f(x):\n",
        "  return (1/(sigma*math.sqrt(2*math.pi)))*np.exp(-(1/2)*(x/sigma)**2)"
      ],
      "metadata": {
        "id": "-Zk7yH5NA_sD"
      },
      "execution_count": null,
      "outputs": []
    },
    {
      "cell_type": "code",
      "source": [
        "from numpy.core.function_base import linspace\n",
        "#1\n",
        "plt.hist(devs, density=True)\n",
        "\n",
        "x_values = np.linspace(-6,6)\n",
        "y_values = f(x_values)\n",
        "\n",
        "\n",
        "plt.plot(x_values, y_values)\n",
        "plt.show()"
      ],
      "metadata": {
        "colab": {
          "base_uri": "https://localhost:8080/",
          "height": 265
        },
        "id": "QFE7xrhj_Ktj",
        "outputId": "d18469e8-1533-4435-bf96-bdba03da4af5"
      },
      "execution_count": 97,
      "outputs": [
        {
          "output_type": "display_data",
          "data": {
            "text/plain": [
              "<Figure size 432x288 with 1 Axes>"
            ],
            "image/png": "[encoded data removed]"
          },
          "metadata": {
            "needs_background": "light"
          }
        }
      ]
    },
    {
      "cell_type": "code",
      "source": [],
      "metadata": {
        "id": "wO6tBoF5_Ujx"
      },
      "execution_count": null,
      "outputs": []
    }
  ]
}