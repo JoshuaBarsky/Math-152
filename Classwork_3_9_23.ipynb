{
  "nbformat": 4,
  "nbformat_minor": 0,
  "metadata": {
    "colab": {
      "provenance": [],
      "authorship_tag": "ABX9TyMOwAB4ANj26qYHSNKJOJ1S",
      "include_colab_link": true
    },
    "kernelspec": {
      "name": "python3",
      "display_name": "Python 3"
    },
    "language_info": {
      "name": "python"
    }
  },
  "cells": [
    {
      "cell_type": "markdown",
      "metadata": {
        "id": "view-in-github",
        "colab_type": "text"
      },
      "source": [
        "<a href=\"https://colab.research.google.com/github/JoshuaBarsky/Math-152/blob/main/Classwork_3_9_23.ipynb\" target=\"_parent\"><img src=\"https://colab.research.google.com/assets/colab-badge.svg\" alt=\"Open In Colab\"/></a>"
      ]
    },
    {
      "cell_type": "code",
      "execution_count": 45,
      "metadata": {
        "id": "68s2tJNn5Gtb"
      },
      "outputs": [],
      "source": [
        "import numpy as np\n",
        "from PIL import Image"
      ]
    },
    {
      "cell_type": "markdown",
      "source": [
        "Order. Chaos.\n",
        "\n",
        "Determinism.  Unpredictability.\n",
        "\n",
        "Individuals.  Collective.\n",
        "\n",
        "..Iteration."
      ],
      "metadata": {
        "id": "NFSPFOdw5rpR"
      }
    },
    {
      "cell_type": "markdown",
      "source": [
        "**Complex Number**\n",
        "\n",
        "$\\mathbb{C}$ = $\\mathbb{R}$ + $\\mathbb{R}j$"
      ],
      "metadata": {
        "id": "gOd9tAic6PDp"
      }
    },
    {
      "cell_type": "code",
      "source": [
        "z = 1+2j\n",
        "z*z"
      ],
      "metadata": {
        "colab": {
          "base_uri": "https://localhost:8080/"
        },
        "id": "Y5p_ibu15OrG",
        "outputId": "44559c68-be41-487d-9149-b86b7f8d4a14"
      },
      "execution_count": 46,
      "outputs": [
        {
          "output_type": "execute_result",
          "data": {
            "text/plain": [
              "(-3+4j)"
            ]
          },
          "metadata": {},
          "execution_count": 46
        }
      ]
    },
    {
      "cell_type": "code",
      "source": [
        "def stay_bounded(c):\n",
        "  for i in range(1000):\n",
        "    c = (c**2)+c\n",
        "    if c > 10:\n",
        "      return False\n",
        "    else:\n",
        "      continue\n",
        "  return True"
      ],
      "metadata": {
        "id": "TDKIyqju79hu"
      },
      "execution_count": 47,
      "outputs": []
    },
    {
      "cell_type": "code",
      "source": [
        "print(stay_bounded(.01))"
      ],
      "metadata": {
        "colab": {
          "base_uri": "https://localhost:8080/"
        },
        "id": "N9sFJiEv80hh",
        "outputId": "76ed8fef-8d2a-4186-c967-80ec12662d79"
      },
      "execution_count": 48,
      "outputs": [
        {
          "output_type": "stream",
          "name": "stdout",
          "text": [
            "False\n"
          ]
        }
      ]
    },
    {
      "cell_type": "code",
      "source": [
        "x = np.arange(-50,50)\n",
        "y = np.arange(-50,50)\n",
        "xy = np.add.outer(x,y)\n",
        "\n",
        "bool_arr = (xy >= 2)\n",
        "\n",
        "image = Image.fromarray(bool_arr)\n",
        "image.show() "
      ],
      "metadata": {
        "colab": {
          "base_uri": "https://localhost:8080/",
          "height": 117
        },
        "id": "tSutQZrA6eat",
        "outputId": "ab4ebde8-1739-4e60-df19-1584cb2d7cbf"
      },
      "execution_count": 56,
      "outputs": [
        {
          "output_type": "display_data",
          "data": {
            "text/plain": [
              "<PIL.Image.Image image mode=1 size=100x100 at 0x7F47862C09D0>"
            ],
            "image/png": "[encoded data removed]"
          },
          "metadata": {}
        }
      ]
    },
    {
      "cell_type": "code",
      "source": [],
      "metadata": {
        "id": "3fmcbcxX7uoR"
      },
      "execution_count": null,
      "outputs": []
    }
  ]
}