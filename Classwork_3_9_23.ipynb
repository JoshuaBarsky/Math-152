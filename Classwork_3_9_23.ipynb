{
  "nbformat": 4,
  "nbformat_minor": 0,
  "metadata": {
    "colab": {
      "provenance": [],
      "authorship_tag": "ABX9TyMLeIDl0ARXh8UQSAkOU+JL",
      "include_colab_link": true
    },
    "kernelspec": {
      "name": "python3",
      "display_name": "Python 3"
    },
    "language_info": {
      "name": "python"
    }
  },
  "cells": [
    {
      "cell_type": "markdown",
      "metadata": {
        "id": "view-in-github",
        "colab_type": "text"
      },
      "source": [
        "<a href=\"https://colab.research.google.com/github/JoshuaBarsky/Math-152/blob/main/Classwork_3_9_23.ipynb\" target=\"_parent\"><img src=\"https://colab.research.google.com/assets/colab-badge.svg\" alt=\"Open In Colab\"/></a>"
      ]
    },
    {
      "cell_type": "code",
      "execution_count": 1,
      "metadata": {
        "id": "68s2tJNn5Gtb"
      },
      "outputs": [],
      "source": [
        "import numpy as np\n",
        "from PIL import Image"
      ]
    },
    {
      "cell_type": "markdown",
      "source": [
        "Order. Chaos.\n",
        "\n",
        "Determinism.  Unpredictability.\n",
        "\n",
        "Individuals.  Collective.\n",
        "\n",
        "..Iteration."
      ],
      "metadata": {
        "id": "NFSPFOdw5rpR"
      }
    },
    {
      "cell_type": "markdown",
      "source": [
        "**Complex Number**\n",
        "\n",
        "$\\mathbb{C}$ = $\\mathbb{R}$ + $\\mathbb{R}j$"
      ],
      "metadata": {
        "id": "gOd9tAic6PDp"
      }
    },
    {
      "cell_type": "code",
      "source": [
        "z = 1+2j\n",
        "z*z"
      ],
      "metadata": {
        "colab": {
          "base_uri": "https://localhost:8080/"
        },
        "id": "Y5p_ibu15OrG",
        "outputId": "dfe86151-4e21-4ab7-87b6-c759b0aa9b3e"
      },
      "execution_count": 4,
      "outputs": [
        {
          "output_type": "execute_result",
          "data": {
            "text/plain": [
              "(-3+4j)"
            ]
          },
          "metadata": {},
          "execution_count": 4
        }
      ]
    },
    {
      "cell_type": "code",
      "source": [],
      "metadata": {
        "id": "tSutQZrA6eat"
      },
      "execution_count": null,
      "outputs": []
    }
  ]
}