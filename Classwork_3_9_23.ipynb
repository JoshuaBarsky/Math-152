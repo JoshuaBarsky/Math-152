{
  "nbformat": 4,
  "nbformat_minor": 0,
  "metadata": {
    "colab": {
      "provenance": [],
      "authorship_tag": "ABX9TyMtMR6/V/WjBWEF8dcsG2Gi",
      "include_colab_link": true
    },
    "kernelspec": {
      "name": "python3",
      "display_name": "Python 3"
    },
    "language_info": {
      "name": "python"
    }
  },
  "cells": [
    {
      "cell_type": "markdown",
      "metadata": {
        "id": "view-in-github",
        "colab_type": "text"
      },
      "source": [
        "<a href=\"https://colab.research.google.com/github/JoshuaBarsky/Math-152/blob/main/Classwork_3_9_23.ipynb\" target=\"_parent\"><img src=\"https://colab.research.google.com/assets/colab-badge.svg\" alt=\"Open In Colab\"/></a>"
      ]
    },
    {
      "cell_type": "code",
      "execution_count": 76,
      "metadata": {
        "id": "68s2tJNn5Gtb"
      },
      "outputs": [],
      "source": [
        "import numpy as np\n",
        "from PIL import Image"
      ]
    },
    {
      "cell_type": "markdown",
      "source": [
        "Order. Chaos.\n",
        "\n",
        "Determinism.  Unpredictability.\n",
        "\n",
        "Individuals.  Collective.\n",
        "\n",
        "..Iteration."
      ],
      "metadata": {
        "id": "NFSPFOdw5rpR"
      }
    },
    {
      "cell_type": "markdown",
      "source": [
        "**Complex Number**\n",
        "\n",
        "$\\mathbb{C}$ = $\\mathbb{R}$ + $\\mathbb{R}j$"
      ],
      "metadata": {
        "id": "gOd9tAic6PDp"
      }
    },
    {
      "cell_type": "code",
      "source": [
        "z = 1+2j\n",
        "z*z"
      ],
      "metadata": {
        "colab": {
          "base_uri": "https://localhost:8080/"
        },
        "id": "Y5p_ibu15OrG",
        "outputId": "44559c68-be41-487d-9149-b86b7f8d4a14"
      },
      "execution_count": 46,
      "outputs": [
        {
          "output_type": "execute_result",
          "data": {
            "text/plain": [
              "(-3+4j)"
            ]
          },
          "metadata": {},
          "execution_count": 46
        }
      ]
    },
    {
      "cell_type": "code",
      "source": [
        "def stay_bounded(c):\n",
        "  for i in range(1000):\n",
        "    c = (c**2)+c\n",
        "    if c > 10:\n",
        "      return False\n",
        "    else:\n",
        "      continue\n",
        "  return True"
      ],
      "metadata": {
        "id": "TDKIyqju79hu"
      },
      "execution_count": 62,
      "outputs": []
    },
    {
      "cell_type": "code",
      "source": [
        "print(stay_bounded(.001))"
      ],
      "metadata": {
        "colab": {
          "base_uri": "https://localhost:8080/"
        },
        "id": "N9sFJiEv80hh",
        "outputId": "e56f4966-8518-449b-94a5-e08029e1bd2d"
      },
      "execution_count": 61,
      "outputs": [
        {
          "output_type": "stream",
          "name": "stdout",
          "text": [
            "0.19313676042983857\n",
            "True\n"
          ]
        }
      ]
    },
    {
      "cell_type": "code",
      "source": [
        "x = np.arange(-50,50)\n",
        "y = np.arange(-50,50)\n",
        "xy = np.add.outer(x,y)\n",
        "\n",
        "bool_arr = (xy >= 2)\n",
        "\n",
        "image = Image.fromarray(bool_arr)\n",
        "image.show() "
      ],
      "metadata": {
        "colab": {
          "base_uri": "https://localhost:8080/",
          "height": 117
        },
        "id": "tSutQZrA6eat",
        "outputId": "ab4ebde8-1739-4e60-df19-1584cb2d7cbf"
      },
      "execution_count": 56,
      "outputs": [
        {
          "output_type": "display_data",
          "data": {
            "text/plain": [
              "<PIL.Image.Image image mode=1 size=100x100 at 0x7F47862C09D0>"
            ],
            "image/png": "[encoded data removed]"
          },
          "metadata": {}
        }
      ]
    },
    {
      "cell_type": "markdown",
      "source": [
        "Solution"
      ],
      "metadata": {
        "id": "r3_IdCLOATaY"
      }
    },
    {
      "cell_type": "code",
      "source": [
        "re_array = np.linspace(-2,2,400)\n",
        "im_array = np.linspace(-1,1,200)\n",
        "\n",
        "c_array = np.add.outer(re_array, im_array*1j)"
      ],
      "metadata": {
        "id": "3fmcbcxX7uoR"
      },
      "execution_count": 166,
      "outputs": []
    },
    {
      "cell_type": "code",
      "source": [
        "def make_mandel(num_iter=100):\n",
        "  arr = np.zeros(c_array.shape) #keeps track of numbers\n",
        "  b_arr = np.zeros(c_array.shape) #keeps track of boundedness\n",
        "  for t in range(num_iter):\n",
        "    arr = (arr**2)+c_array #complex numbers\n",
        "    arr_size = np.abs(arr) #floats\n",
        "    is_bded = (arr_size < 2) #boolean\n",
        "    b_arr = b_arr + is_bded\n",
        "    arr = (arr * is_bded) + (2*(1-is_bded))\n",
        "  return is_bded"
      ],
      "metadata": {
        "id": "iJbyZzP2AZjB"
      },
      "execution_count": 167,
      "outputs": []
    },
    {
      "cell_type": "markdown",
      "source": [
        "$f$: x ↦ x if |x|$\\le$2, 2 if |x|$>$2 "
      ],
      "metadata": {
        "id": "k6ZHoBrNDjGo"
      }
    },
    {
      "cell_type": "code",
      "source": [
        "mbrot = make_mandel()\n"
      ],
      "metadata": {
        "id": "zXrVmAyYBOPW"
      },
      "execution_count": 168,
      "outputs": []
    },
    {
      "cell_type": "code",
      "source": [
        "img = Image.fromarray(mbrot)\n",
        "display(img)"
      ],
      "metadata": {
        "colab": {
          "base_uri": "https://localhost:8080/",
          "height": 417
        },
        "id": "GVb9dBo4Eckh",
        "outputId": "bdfd41c5-f5a4-41f7-827e-2c7f8dca0ab5"
      },
      "execution_count": 169,
      "outputs": [
        {
          "output_type": "display_data",
          "data": {
            "text/plain": [
              "<PIL.Image.Image image mode=1 size=200x400 at 0x7F47862DD670>"
            ],
            "image/png": "[encoded data removed]"
          },
          "metadata": {}
        }
      ]
    },
    {
      "cell_type": "code",
      "source": [
        "def make_mandel2(num_iter=100):\n",
        "  arr = np.zeros(c_array.shape) #keeps track of numbers\n",
        "  b_arr = np.zeros(c_array.shape) #keeps track of boundedness\n",
        "  for t in range(num_iter):\n",
        "    arr = (arr**2)+c_array #complex numbers\n",
        "    arr_size = np.abs(arr) #floats\n",
        "    is_bded = (arr_size < 2) #boolean\n",
        "    b_arr = b_arr + is_bded\n",
        "    arr = (arr * is_bded) + (2*(1-is_bded))\n",
        "  return b_arr, is_bded\n"
      ],
      "metadata": {
        "id": "lvhOMplhFwKh"
      },
      "execution_count": 170,
      "outputs": []
    },
    {
      "cell_type": "code",
      "source": [
        "esc_time, mbrot = make_mandel2()"
      ],
      "metadata": {
        "id": "zsDDbS8NGjKV"
      },
      "execution_count": 171,
      "outputs": []
    },
    {
      "cell_type": "code",
      "source": [
        "pixels = np.zeros((c_array.shape[0], c_array.shape[1], 3))"
      ],
      "metadata": {
        "id": "v5t9iJPmGkpw"
      },
      "execution_count": 172,
      "outputs": []
    },
    {
      "cell_type": "code",
      "source": [
        "pixels[:,:,0] = mbrot*255\n",
        "pixels[:,:,1] = mbrot*255\n",
        "pixels[:,:,2] = mbrot*255\n",
        "pixels[:,:,0] += (100*esc_time%255)\n",
        "pixels[:,:,1] += (37*esc_time%255)\n",
        "pixels = np.clip(pixels,0,255)"
      ],
      "metadata": {
        "id": "ICIrD1_tGuih"
      },
      "execution_count": 173,
      "outputs": []
    },
    {
      "cell_type": "code",
      "source": [
        "im = Image.fromarray(pixels.astype(np.uint8))\n",
        "display(im)"
      ],
      "metadata": {
        "colab": {
          "base_uri": "https://localhost:8080/",
          "height": 417
        },
        "id": "EW-uJ056HrAE",
        "outputId": "9127bcad-a565-40f2-fb1e-726dbfad4c1c"
      },
      "execution_count": 174,
      "outputs": [
        {
          "output_type": "display_data",
          "data": {
            "text/plain": [
              "<PIL.Image.Image image mode=RGB size=200x400 at 0x7F47862DDB80>"
            ],
            "image/png": "[encoded data removed]"
          },
          "metadata": {}
        }
      ]
    }
  ]
}