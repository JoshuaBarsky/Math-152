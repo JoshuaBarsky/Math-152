{
  "nbformat": 4,
  "nbformat_minor": 0,
  "metadata": {
    "colab": {
      "provenance": [],
      "authorship_tag": "ABX9TyMLdofG2RqTl4NoSsEd01IA",
      "include_colab_link": true
    },
    "kernelspec": {
      "name": "python3",
      "display_name": "Python 3"
    },
    "language_info": {
      "name": "python"
    }
  },
  "cells": [
    {
      "cell_type": "markdown",
      "metadata": {
        "id": "view-in-github",
        "colab_type": "text"
      },
      "source": [
        "<a href=\"https://colab.research.google.com/github/JoshuaBarsky/Math-152/blob/main/Classwork_3_9_23.ipynb\" target=\"_parent\"><img src=\"https://colab.research.google.com/assets/colab-badge.svg\" alt=\"Open In Colab\"/></a>"
      ]
    },
    {
      "cell_type": "code",
      "execution_count": 76,
      "metadata": {
        "id": "68s2tJNn5Gtb"
      },
      "outputs": [],
      "source": [
        "import numpy as np\n",
        "from PIL import Image"
      ]
    },
    {
      "cell_type": "markdown",
      "source": [
        "Order. Chaos.\n",
        "\n",
        "Determinism.  Unpredictability.\n",
        "\n",
        "Individuals.  Collective.\n",
        "\n",
        "..Iteration."
      ],
      "metadata": {
        "id": "NFSPFOdw5rpR"
      }
    },
    {
      "cell_type": "markdown",
      "source": [
        "**Complex Number**\n",
        "\n",
        "$\\mathbb{C}$ = $\\mathbb{R}$ + $\\mathbb{R}j$"
      ],
      "metadata": {
        "id": "gOd9tAic6PDp"
      }
    },
    {
      "cell_type": "code",
      "source": [
        "z = 1+2j\n",
        "z*z"
      ],
      "metadata": {
        "colab": {
          "base_uri": "https://localhost:8080/"
        },
        "id": "Y5p_ibu15OrG",
        "outputId": "44559c68-be41-487d-9149-b86b7f8d4a14"
      },
      "execution_count": 46,
      "outputs": [
        {
          "output_type": "execute_result",
          "data": {
            "text/plain": [
              "(-3+4j)"
            ]
          },
          "metadata": {},
          "execution_count": 46
        }
      ]
    },
    {
      "cell_type": "code",
      "source": [
        "def stay_bounded(c):\n",
        "  for i in range(1000):\n",
        "    c = (c**2)+c\n",
        "    if c > 10:\n",
        "      return False\n",
        "    else:\n",
        "      continue\n",
        "  return True"
      ],
      "metadata": {
        "id": "TDKIyqju79hu"
      },
      "execution_count": 62,
      "outputs": []
    },
    {
      "cell_type": "code",
      "source": [
        "print(stay_bounded(.001))"
      ],
      "metadata": {
        "colab": {
          "base_uri": "https://localhost:8080/"
        },
        "id": "N9sFJiEv80hh",
        "outputId": "e56f4966-8518-449b-94a5-e08029e1bd2d"
      },
      "execution_count": 61,
      "outputs": [
        {
          "output_type": "stream",
          "name": "stdout",
          "text": [
            "0.19313676042983857\n",
            "True\n"
          ]
        }
      ]
    },
    {
      "cell_type": "code",
      "source": [
        "x = np.arange(-50,50)\n",
        "y = np.arange(-50,50)\n",
        "xy = np.add.outer(x,y)\n",
        "\n",
        "bool_arr = (xy >= 2)\n",
        "\n",
        "image = Image.fromarray(bool_arr)\n",
        "image.show() "
      ],
      "metadata": {
        "colab": {
          "base_uri": "https://localhost:8080/",
          "height": 117
        },
        "id": "tSutQZrA6eat",
        "outputId": "ab4ebde8-1739-4e60-df19-1584cb2d7cbf"
      },
      "execution_count": 56,
      "outputs": [
        {
          "output_type": "display_data",
          "data": {
            "text/plain": [
              "<PIL.Image.Image image mode=1 size=100x100 at 0x7F47862C09D0>"
            ],
            "image/png": "[encoded data removed]"
          },
          "metadata": {}
        }
      ]
    },
    {
      "cell_type": "markdown",
      "source": [
        "Solution"
      ],
      "metadata": {
        "id": "r3_IdCLOATaY"
      }
    },
    {
      "cell_type": "code",
      "source": [
        "re_array = np.linspace(-2,2,400)\n",
        "im_array = np.linspace(-1,1,200)\n",
        "\n",
        "c_array = np.add.outer(re_array, im_array*1j)"
      ],
      "metadata": {
        "id": "3fmcbcxX7uoR"
      },
      "execution_count": 166,
      "outputs": []
    },
    {
      "cell_type": "code",
      "source": [
        "def make_mandel(num_iter=100):\n",
        "  arr = np.zeros(c_array.shape) #keeps track of numbers\n",
        "  b_arr = np.zeros(c_array.shape) #keeps track of boundedness\n",
        "  for t in range(num_iter):\n",
        "    arr = (arr**2)+c_array #complex numbers\n",
        "    arr_size = np.abs(arr) #floats\n",
        "    is_bded = (arr_size < 2) #boolean\n",
        "    b_arr = b_arr + is_bded\n",
        "    arr = (arr * is_bded) + (2*(1-is_bded))\n",
        "  return is_bded"
      ],
      "metadata": {
        "id": "iJbyZzP2AZjB"
      },
      "execution_count": 167,
      "outputs": []
    },
    {
      "cell_type": "markdown",
      "source": [
        "$f$: x ↦ x if |x|$\\le$2, 2 if |x|$>$2 "
      ],
      "metadata": {
        "id": "k6ZHoBrNDjGo"
      }
    },
    {
      "cell_type": "code",
      "source": [
        "mbrot = make_mandel()\n"
      ],
      "metadata": {
        "id": "zXrVmAyYBOPW"
      },
      "execution_count": 168,
      "outputs": []
    },
    {
      "cell_type": "code",
      "source": [
        "img = Image.fromarray(mbrot)\n",
        "display(img)"
      ],
      "metadata": {
        "colab": {
          "base_uri": "https://localhost:8080/",
          "height": 417
        },
        "id": "GVb9dBo4Eckh",
        "outputId": "bdfd41c5-f5a4-41f7-827e-2c7f8dca0ab5"
      },
      "execution_count": 169,
      "outputs": [
        {
          "output_type": "display_data",
          "data": {
            "text/plain": [
              "<PIL.Image.Image image mode=1 size=200x400 at 0x7F47862DD670>"
            ],
            "image/png": "[encoded data removed]"
          },
          "metadata": {}
        }
      ]
    },
    {
      "cell_type": "code",
      "source": [
        "def make_mandel2(num_iter=100):\n",
        "  arr = np.zeros(c_array.shape) #keeps track of numbers\n",
        "  b_arr = np.zeros(c_array.shape) #keeps track of boundedness\n",
        "  for t in range(num_iter): #loop must be used for this type of dynamical approach\n",
        "    arr = (arr**2)+c_array #complex numbers\n",
        "    arr_size = np.abs(arr) #floats\n",
        "    is_bded = (arr_size < 2) #boolean\n",
        "    b_arr = b_arr + is_bded\n",
        "    arr = (arr * is_bded) + (2*(1-is_bded))\n",
        "  return b_arr, is_bded\n"
      ],
      "metadata": {
        "id": "lvhOMplhFwKh"
      },
      "execution_count": 188,
      "outputs": []
    },
    {
      "cell_type": "code",
      "source": [
        "esc_time, mbrot = make_mandel2()"
      ],
      "metadata": {
        "id": "zsDDbS8NGjKV"
      },
      "execution_count": 189,
      "outputs": []
    },
    {
      "cell_type": "code",
      "source": [
        "pixels = np.zeros((c_array.shape[0], c_array.shape[1], 3))"
      ],
      "metadata": {
        "id": "v5t9iJPmGkpw"
      },
      "execution_count": 190,
      "outputs": []
    },
    {
      "cell_type": "code",
      "source": [
        "pixels[:,:,0] = mbrot*255\n",
        "pixels[:,:,1] = mbrot*255\n",
        "pixels[:,:,2] = mbrot*255\n",
        "pixels[:,:,0] += (100*esc_time%255)\n",
        "pixels[:,:,1] += (37*esc_time%255)\n",
        "pixels = np.clip(pixels,0,255)"
      ],
      "metadata": {
        "id": "ICIrD1_tGuih"
      },
      "execution_count": 191,
      "outputs": []
    },
    {
      "cell_type": "code",
      "source": [
        "im = Image.fromarray(pixels.astype(np.uint8))\n",
        "display(im)"
      ],
      "metadata": {
        "colab": {
          "base_uri": "https://localhost:8080/",
          "height": 417
        },
        "id": "EW-uJ056HrAE",
        "outputId": "714d39d9-5e8a-4e97-f0f7-354b15b1d2c4"
      },
      "execution_count": 192,
      "outputs": [
        {
          "output_type": "display_data",
          "data": {
            "text/plain": [
              "<PIL.Image.Image image mode=RGB size=200x400 at 0x7F47864A6E50>"
            ],
            "image/png": "[encoded data removed]"
          },
          "metadata": {}
        }
      ]
    },
    {
      "cell_type": "code",
      "source": [],
      "metadata": {
        "id": "veQHXGvUKWYY"
      },
      "execution_count": null,
      "outputs": []
    },
    {
      "cell_type": "markdown",
      "source": [
        "Newton's Method brings cool fractals as well."
      ],
      "metadata": {
        "id": "1w0clhYFKtgp"
      }
    },
    {
      "cell_type": "markdown",
      "source": [
        "###**Random walks**"
      ],
      "metadata": {
        "id": "6hbO8Zo0K7ih"
      }
    },
    {
      "cell_type": "code",
      "source": [
        "num_bots = 100000\n",
        "bots = np.zeros((num_bots, 2))\n",
        "bots[0] #location of bots"
      ],
      "metadata": {
        "colab": {
          "base_uri": "https://localhost:8080/"
        },
        "id": "zzFTKM39Kysl",
        "outputId": "2d3d38e9-bf80-49f5-c97f-c6c369b4da07"
      },
      "execution_count": 195,
      "outputs": [
        {
          "output_type": "execute_result",
          "data": {
            "text/plain": [
              "array([0., 0.])"
            ]
          },
          "metadata": {},
          "execution_count": 195
        }
      ]
    },
    {
      "cell_type": "code",
      "source": [
        "for t in range(1000):\n",
        "  step = np.random.uniform(-1,1,(num_bots,2))\n",
        "  bots = bots+step"
      ],
      "metadata": {
        "id": "Xqp1nq_uLdnk"
      },
      "execution_count": 198,
      "outputs": []
    },
    {
      "cell_type": "code",
      "source": [
        "bots[0]"
      ],
      "metadata": {
        "colab": {
          "base_uri": "https://localhost:8080/"
        },
        "id": "paWfiS8DMNPQ",
        "outputId": "04381c35-92df-4a93-8ed4-553b2f7a8d4c"
      },
      "execution_count": 200,
      "outputs": [
        {
          "output_type": "execute_result",
          "data": {
            "text/plain": [
              "array([ 4.43595754, -7.84319547])"
            ]
          },
          "metadata": {},
          "execution_count": 200
        }
      ]
    },
    {
      "cell_type": "code",
      "source": [
        "counts = np.histogram2d(bots[:,0], bots[:,1], bins = 300)[0]"
      ],
      "metadata": {
        "id": "xHvF1_tIMkoY"
      },
      "execution_count": 207,
      "outputs": []
    },
    {
      "cell_type": "code",
      "source": [
        "cmax = np.max(counts)\n",
        "pixels = (counts*255/cmax)\n",
        "pixels = pixels.astype(np.uint8)"
      ],
      "metadata": {
        "id": "xm44D9zbNC24"
      },
      "execution_count": 216,
      "outputs": []
    },
    {
      "cell_type": "code",
      "source": [
        "img_bots = Image.fromarray(pixels)\n",
        "display(img_bots)"
      ],
      "metadata": {
        "colab": {
          "base_uri": "https://localhost:8080/",
          "height": 317
        },
        "id": "wxtvkkvuNnx2",
        "outputId": "9140500f-285d-4eb8-f757-1be35d3bc48c"
      },
      "execution_count": 217,
      "outputs": [
        {
          "output_type": "display_data",
          "data": {
            "text/plain": [
              "<PIL.Image.Image image mode=L size=300x300 at 0x7F47862D9FA0>"
            ],
            "image/png": "[encoded data removed]"
          },
          "metadata": {}
        }
      ]
    },
    {
      "cell_type": "markdown",
      "source": [
        "###**Remember for the project: break up into code blocks.**"
      ],
      "metadata": {
        "id": "jWd2hrmROK5O"
      }
    }
  ]
}