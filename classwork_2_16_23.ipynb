{
  "nbformat": 4,
  "nbformat_minor": 0,
  "metadata": {
    "colab": {
      "provenance": [],
      "authorship_tag": "ABX9TyNkzcTnS3XzdajBy/xMU3yS",
      "include_colab_link": true
    },
    "kernelspec": {
      "name": "python3",
      "display_name": "Python 3"
    },
    "language_info": {
      "name": "python"
    }
  },
  "cells": [
    {
      "cell_type": "markdown",
      "metadata": {
        "id": "view-in-github",
        "colab_type": "text"
      },
      "source": [
        "<a href=\"https://colab.research.google.com/github/JoshuaBarsky/Math-152/blob/main/classwork_2_16_23.ipynb\" target=\"_parent\"><img src=\"https://colab.research.google.com/assets/colab-badge.svg\" alt=\"Open In Colab\"/></a>"
      ]
    },
    {
      "cell_type": "code",
      "source": [
        "\n",
        "n = [0, 1, 0, 0, 0, 0]\n",
        "print(\"{} <-- Starting array\".format(n))\n"
      ],
      "metadata": {
        "colab": {
          "base_uri": "https://localhost:8080/"
        },
        "id": "RSjQyIIj_6eL",
        "outputId": "116b1427-af72-4487-eb49-fb2a3da3e26d"
      },
      "execution_count": 131,
      "outputs": [
        {
          "output_type": "stream",
          "name": "stdout",
          "text": [
            "[0, 1, 0, 0, 0, 0] <-- Starting array\n"
          ]
        }
      ]
    },
    {
      "cell_type": "code",
      "execution_count": 132,
      "metadata": {
        "id": "olFep70l1OPL"
      },
      "outputs": [],
      "source": [
        "def change_lights(L):\n",
        "  new_L = len(L) * [False]\n",
        "  for i in range(-2, len(L)-2):\n",
        "    new_L[i] = (L[i-1] or L[i+1]);\n",
        "  return new_L"
      ]
    },
    {
      "cell_type": "code",
      "source": [
        "n = [0, 1, 0, 0, 0, 0]\n",
        "print(\"0: {} <-- Starting array\".format(n))\n",
        "\n",
        "for i in range(3):\n",
        "  n = change_lights(n)\n",
        "  print(\"{}: {}\".format(i+1, n))"
      ],
      "metadata": {
        "colab": {
          "base_uri": "https://localhost:8080/"
        },
        "id": "9xjWYkwz9Obr",
        "outputId": "ea7021c6-459f-49b9-e8db-c0be12a5fe93"
      },
      "execution_count": 135,
      "outputs": [
        {
          "output_type": "stream",
          "name": "stdout",
          "text": [
            "0: [0, 1, 0, 0, 0, 0] <-- Starting array\n",
            "1: [1, 0, 1, 0, 0, 0]\n",
            "2: [0, 1, 0, 1, 0, 1]\n",
            "3: [1, 0, 1, 0, 1, 0]\n"
          ]
        }
      ]
    },
    {
      "cell_type": "code",
      "source": [],
      "metadata": {
        "id": "O5tU53yg_84y"
      },
      "execution_count": null,
      "outputs": []
    }
  ]
}