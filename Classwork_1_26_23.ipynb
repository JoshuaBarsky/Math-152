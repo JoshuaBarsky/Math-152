{
  "nbformat": 4,
  "nbformat_minor": 0,
  "metadata": {
    "colab": {
      "provenance": [],
      "authorship_tag": "ABX9TyOGlJ4QWwM7Rt53t2JPy4Xe",
      "include_colab_link": true
    },
    "kernelspec": {
      "name": "python3",
      "display_name": "Python 3"
    },
    "language_info": {
      "name": "python"
    }
  },
  "cells": [
    {
      "cell_type": "markdown",
      "metadata": {
        "id": "view-in-github",
        "colab_type": "text"
      },
      "source": [
        "<a href=\"https://colab.research.google.com/github/JoshuaBarsky/Math-152/blob/main/Classwork_1_26_23.ipynb\" target=\"_parent\"><img src=\"https://colab.research.google.com/assets/colab-badge.svg\" alt=\"Open In Colab\"/></a>"
      ]
    },
    {
      "cell_type": "markdown",
      "source": [
        "Write a function is_square(N):\n",
        "1. Outputs True if N is a square (0, 1, 4, 9, ...) \n",
        "2. False otherwise"
      ],
      "metadata": {
        "id": "diBseV2DnqFa"
      }
    },
    {
      "cell_type": "code",
      "execution_count": 67,
      "metadata": {
        "colab": {
          "base_uri": "https://localhost:8080/"
        },
        "id": "5FeG5ukAnoa1",
        "outputId": "1a4cfb32-dc13-4fb7-e2f8-47dfabbdfc02"
      },
      "outputs": [
        {
          "output_type": "stream",
          "name": "stdout",
          "text": [
            "False\n"
          ]
        }
      ],
      "source": [
        "import math\n",
        "from mpmath import *\n",
        "\n",
        "math.mpf = 100\n",
        "\n",
        "def is_square(N):\n",
        "  return ((mp.floor(mp.sqrt(N)))**2) == N\n",
        "    \n",
        "\n",
        "\n",
        "\n",
        "print(is_square((2**1000)+1))"
      ]
    },
    {
      "cell_type": "code",
      "source": [
        "#def is_square_2(N):  #--> use the babylonian algorithm\n",
        "\n",
        "\n",
        "#def is_square_3(N):  #--> use properties of square roots"
      ],
      "metadata": {
        "id": "dghFb8Ig1BNH"
      },
      "execution_count": 68,
      "outputs": []
    },
    {
      "cell_type": "code",
      "source": [],
      "metadata": {
        "id": "9LeoGoIkrLPy"
      },
      "execution_count": null,
      "outputs": []
    }
  ]
}